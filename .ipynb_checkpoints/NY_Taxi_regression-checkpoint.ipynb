{
 "cells": [
  {
   "cell_type": "markdown",
   "metadata": {
    "id": "vo62eB35MqIO"
   },
   "source": [
    "# <center> Taxi New York | Analysis and ML</center>"
   ]
  },
  {
   "cell_type": "markdown",
   "metadata": {},
   "source": [
    "1. [Import libraries](#impo_lib)\n",
    "2. [Data reading](#data_rea)\n",
    "3. [Data processing](#data_pro)\n",
    "4. [Data visualization](#data_vis)\n",
    "4. [Quantitive Analyses](#quan_ana)\n",
    "4. [Predictive Analyses | Machine Learning](#pred_ana)"
   ]
  },
  {
   "cell_type": "markdown",
   "metadata": {
    "id": "BptYytunMqIQ"
   },
   "source": [
    "### 1. Import libraries <a id = \"imp_lib\">*</a>"
   ]
  },
  {
   "cell_type": "code",
   "execution_count": 2,
   "metadata": {
    "id": "_bZ3PlizMqIR"
   },
   "outputs": [
    {
     "ename": "ModuleNotFoundError",
     "evalue": "No module named 'lightgbm'",
     "output_type": "error",
     "traceback": [
      "\u001b[0;31m---------------------------------------------------------------------------\u001b[0m",
      "\u001b[0;31mModuleNotFoundError\u001b[0m                       Traceback (most recent call last)",
      "\u001b[0;32m/tmp/ipykernel_52/2126781353.py\u001b[0m in \u001b[0;36m<module>\u001b[0;34m\u001b[0m\n\u001b[1;32m     13\u001b[0m \u001b[0;32mfrom\u001b[0m \u001b[0msklearn\u001b[0m\u001b[0;34m.\u001b[0m\u001b[0msvm\u001b[0m \u001b[0;32mimport\u001b[0m \u001b[0mLinearSVR\u001b[0m\u001b[0;34m\u001b[0m\u001b[0;34m\u001b[0m\u001b[0m\n\u001b[1;32m     14\u001b[0m \u001b[0;31m#import xgboost as xgb\u001b[0m\u001b[0;34m\u001b[0m\u001b[0;34m\u001b[0m\u001b[0m\n\u001b[0;32m---> 15\u001b[0;31m \u001b[0;32mfrom\u001b[0m \u001b[0mlightgbm\u001b[0m \u001b[0;32mimport\u001b[0m \u001b[0mLGBMRegressor\u001b[0m\u001b[0;34m\u001b[0m\u001b[0;34m\u001b[0m\u001b[0m\n\u001b[0m\u001b[1;32m     16\u001b[0m \u001b[0;34m\u001b[0m\u001b[0m\n\u001b[1;32m     17\u001b[0m \u001b[0;32mfrom\u001b[0m \u001b[0mtensorflow\u001b[0m\u001b[0;34m.\u001b[0m\u001b[0mkeras\u001b[0m\u001b[0;34m.\u001b[0m\u001b[0mlayers\u001b[0m \u001b[0;32mimport\u001b[0m \u001b[0mInput\u001b[0m\u001b[0;34m,\u001b[0m \u001b[0mDense\u001b[0m\u001b[0;34m,\u001b[0m \u001b[0mActivation\u001b[0m\u001b[0;34m,\u001b[0m\u001b[0mDropout\u001b[0m\u001b[0;34m\u001b[0m\u001b[0;34m\u001b[0m\u001b[0m\n",
      "\u001b[0;31mModuleNotFoundError\u001b[0m: No module named 'lightgbm'"
     ]
    }
   ],
   "source": [
    "import pandas as pd\n",
    "import numpy as np\n",
    "from math import sqrt\n",
    "\n",
    "from sklearn import preprocessing \n",
    "from sklearn.preprocessing import OneHotEncoder\n",
    "from sklearn.model_selection import train_test_split\n",
    "from sklearn.cluster import KMeans\n",
    "from sklearn.metrics import mean_squared_error, accuracy_score\n",
    "from sklearn.tree import DecisionTreeRegressor, DecisionTreeClassifier\n",
    "from sklearn.ensemble import RandomForestRegressor\n",
    "from sklearn.linear_model import LinearRegression, LogisticRegression, RidgeCV\n",
    "from sklearn.svm import LinearSVR\n",
    "import xgboost as xgb\n",
    "from lightgbm import LGBMRegressor\n",
    "\n",
    "from tensorflow.keras.layers import Input, Dense, Activation,Dropout\n",
    "from tensorflow.keras.models import Model\n",
    "\n",
    "import datetime\n",
    "import plotly.express as px\n",
    "import seaborn as sns\n",
    "import matplotlib.pyplot as plt\n",
    "\n",
    "pd.options.display.float_format = '{:.4f}'.format"
   ]
  },
  {
   "cell_type": "code",
   "execution_count": null,
   "metadata": {
    "id": "L28Ettqsak5_"
   },
   "outputs": [],
   "source": [
    "import warnings\n",
    "warnings.filterwarnings(\"ignore\")"
   ]
  },
  {
   "cell_type": "markdown",
   "metadata": {
    "id": "59d95bsMMqIS"
   },
   "source": [
    "### 2. Data reading <a id = \"data_red\">*</a>"
   ]
  },
  {
   "cell_type": "markdown",
   "metadata": {},
   "source": [
    "<a href=\"https://www1.nyc.gov/site/tlc/about/tlc-trip-record-data.page\">Link to data for downloading</a>"
   ]
  },
  {
   "cell_type": "code",
   "execution_count": null,
   "metadata": {
    "id": "dcvnrxztNicc",
    "scrolled": true
   },
   "outputs": [],
   "source": [
    "df =pd.read_csv(\"yellow_tripdata_2015-02.csv\")\n",
    "#df =pd.read_csv(\"yellow_tripdata_2015-02.csv\", nrows=5000000)\n",
    "df.head()"
   ]
  },
  {
   "cell_type": "code",
   "execution_count": null,
   "metadata": {
    "colab": {
     "base_uri": "https://localhost:8080/",
     "height": 206
    },
    "id": "Y1lPVzlCMqIT",
    "outputId": "9ce1760f-8584-4414-b87d-cc314556bca4"
   },
   "outputs": [],
   "source": [
    "df = df[['tpep_pickup_datetime', 'tpep_dropoff_datetime', 'pickup_longitude', 'pickup_latitude', 'dropoff_longitude', 'dropoff_latitude', 'trip_distance', 'total_amount']]\n",
    "df.head()"
   ]
  },
  {
   "cell_type": "markdown",
   "metadata": {},
   "source": [
    "Description of the columns:\n",
    "\n",
    "| Name | ProbDistribution | \n",
    "| --- | --- | \n",
    "| tpep_pickup_datetime | The date and time when the meter was engaged. | \n",
    "| tpep_dropoff_datetime | The date and time when the meter was disengaged.  | \n",
    "| pickup_longitude | Pickup longitude coordinate | \n",
    "| pickup_latitude | Pickup latitude coordinate | \n",
    "| dropoff_longitude | Dropoff longitude coordinate | \n",
    "| dropoff_latitude | Dropoff latitude coordinate | \n",
    "| trip_distance | The elapsed trip distance in miles reported by the taximeter. | \n",
    "| total_amount | The total amount charged to passengers. Does not include cash tips. | "
   ]
  },
  {
   "cell_type": "markdown",
   "metadata": {
    "id": "9AtOYxbvclSt"
   },
   "source": [
    "### Data preprocessing"
   ]
  },
  {
   "cell_type": "code",
   "execution_count": null,
   "metadata": {
    "colab": {
     "base_uri": "https://localhost:8080/"
    },
    "id": "Av3lJlc2MqIU",
    "outputId": "dc7c24e6-d0cb-48dd-932b-e463f37d00f4"
   },
   "outputs": [],
   "source": [
    "df.info()"
   ]
  },
  {
   "cell_type": "markdown",
   "metadata": {
    "id": "KzTt0YNmMqIU"
   },
   "source": [
    "#### Change datatype"
   ]
  },
  {
   "cell_type": "code",
   "execution_count": null,
   "metadata": {
    "id": "U7R3-BghMqIU"
   },
   "outputs": [],
   "source": [
    "#cambiamos a tipo \"fecha\"\n",
    "df['tpep_pickup_datetime'] = pd.to_datetime(df['tpep_pickup_datetime'])\n",
    "df['tpep_dropoff_datetime'] = pd.to_datetime(df['tpep_dropoff_datetime'])"
   ]
  },
  {
   "cell_type": "markdown",
   "metadata": {
    "id": "LJgyZniUMqIW"
   },
   "source": [
    "#### Drop na & duplicates"
   ]
  },
  {
   "cell_type": "code",
   "execution_count": null,
   "metadata": {
    "id": "dVCf2oUHMqIW"
   },
   "outputs": [],
   "source": [
    "#Nos cargamos los NAs, y los duplicados (si los hubiera)\n",
    "df.dropna(inplace = True)\n",
    "df.drop_duplicates(keep='first',inplace=True)"
   ]
  },
  {
   "cell_type": "markdown",
   "metadata": {
    "id": "m9qvMO4kMqIV"
   },
   "source": [
    "#### Calculate time"
   ]
  },
  {
   "cell_type": "code",
   "execution_count": null,
   "metadata": {
    "id": "HaDDLsNXMqIV"
   },
   "outputs": [],
   "source": [
    "# calculate duration of the trip\n",
    "df = df.assign(total_time = lambda x: df['tpep_dropoff_datetime']-df['tpep_pickup_datetime']) \n",
    "df['total_time'] = df['total_time'].astype('timedelta64[s]')\n",
    "df = df.drop(df[df['total_time']<1].index) # remove duration shorter than 1s"
   ]
  },
  {
   "cell_type": "code",
   "execution_count": null,
   "metadata": {
    "id": "monYWvSDXEJa"
   },
   "outputs": [],
   "source": [
    "df.drop(['tpep_dropoff_datetime'],axis=1, inplace=True) # no more interest"
   ]
  },
  {
   "cell_type": "code",
   "execution_count": null,
   "metadata": {},
   "outputs": [],
   "source": [
    "df.shape"
   ]
  },
  {
   "cell_type": "markdown",
   "metadata": {},
   "source": [
    "#### Miles to Km and clean"
   ]
  },
  {
   "cell_type": "code",
   "execution_count": null,
   "metadata": {},
   "outputs": [],
   "source": [
    "df['trip_distance'] = df['trip_distance']*1.61\n",
    "df=df[df['trip_distance']>=1]"
   ]
  },
  {
   "cell_type": "markdown",
   "metadata": {
    "id": "eAqQRJyjMqIV"
   },
   "source": [
    "#### Expand dates"
   ]
  },
  {
   "cell_type": "code",
   "execution_count": null,
   "metadata": {
    "colab": {
     "base_uri": "https://localhost:8080/",
     "height": 270
    },
    "id": "utjXnOqCMqIW",
    "outputId": "fb2d4bdb-fafc-4922-9df8-c68394c8f895"
   },
   "outputs": [],
   "source": [
    "#la fecha, la fecha concreta no nos interesa tanto. Por si es útil nos quedamos con el día de la semana,\n",
    "#En cuanto a la hora, la separamos en hora y minuto. Los segundos no interesan (están incuidos en el tiempo de viaje en segundos)\n",
    "for col in ['tpep_pickup_datetime']:\n",
    "    date_col = pd.to_datetime(df[col])\n",
    "    df[col + '_hour'] = date_col.dt.hour\n",
    "    df[col + '_minute'] = date_col.dt.minute\n",
    "    #df[col + '_second'] = date_col.dt.second\n",
    "    df[col + '_weekday'] = date_col.dt.day_name()\n",
    "    #df[col + '_day'] = date_col.dt.day\n",
    "    #df[col + '_month'] = date_col.dt.month\n",
    "    #df[col + '_year'] = date_col.dt.year\n",
    "    \n",
    "    del df[col]\n",
    "\n",
    "df.head(5)"
   ]
  },
  {
   "cell_type": "markdown",
   "metadata": {},
   "source": [
    "#### Filter longitude and latitude"
   ]
  },
  {
   "cell_type": "code",
   "execution_count": null,
   "metadata": {},
   "outputs": [],
   "source": [
    "df = df[(df['pickup_longitude']>-75) & (df['pickup_longitude']<-70)]\n",
    "df = df[(df['pickup_latitude']>40) & (df['pickup_latitude']<42)]\n",
    "df = df[(df['dropoff_longitude']>-75) & (df['dropoff_longitude']<70)]\n",
    "#df[(df['dropoff_latitude']>40) & (df['dropoff_latitude']<42)] no need"
   ]
  },
  {
   "cell_type": "markdown",
   "metadata": {
    "id": "Vx06hHOgMqIX"
   },
   "source": [
    "#### Column analysis & winsorization"
   ]
  },
  {
   "cell_type": "code",
   "execution_count": null,
   "metadata": {
    "colab": {
     "base_uri": "https://localhost:8080/"
    },
    "id": "BkQel-ruMqIX",
    "outputId": "ddbe2de1-d564-4f2a-9e80-340f1b0b3c76"
   },
   "outputs": [],
   "source": [
    "df.pickup_latitude.describe()"
   ]
  },
  {
   "cell_type": "markdown",
   "metadata": {},
   "source": [
    "Boxplot of the variables, not run if there is a high number of register and low CPU."
   ]
  },
  {
   "cell_type": "code",
   "execution_count": null,
   "metadata": {
    "colab": {
     "base_uri": "https://localhost:8080/",
     "height": 542
    },
    "id": "jZWv2G1yMqIX",
    "outputId": "a1809da6-5f39-4ac1-cbb6-4dbc22c5c4b4"
   },
   "outputs": [],
   "source": [
    "#Dibujamos el plotly de la longitud\n",
    "#fig = px.box(df, y=\"total_time\")\n",
    "#fig.show()"
   ]
  },
  {
   "cell_type": "markdown",
   "metadata": {},
   "source": [
    "We should have done an analysis of all the columns before keep going. Now we remove outliers, it's done with winsorization, as there are many data we can remove winsorization without hesitating too much"
   ]
  },
  {
   "cell_type": "code",
   "execution_count": null,
   "metadata": {},
   "outputs": [],
   "source": [
    "cols_to_winsorization =  ['pickup_longitude','trip_distance','total_time','total_amount','dropoff_longitude','dropoff_latitude']\n",
    "\n",
    "for col in cols_to_winsorization:\n",
    "    date_col = df[col]\n",
    "    \n",
    "    limit_inf = np.quantile(date_col, 0.01)\n",
    "    limit_sup = np.quantile(date_col, 0.99)\n",
    "\n",
    "    drop_inf = df[date_col<limit_inf].index\n",
    "    drop_sup = df[date_col>limit_sup].index\n",
    "\n",
    "    df.drop(drop_inf, inplace=True)\n",
    "    df.drop(drop_sup, inplace=True)\n",
    "    print(f'Winsorization done to {date_col.name}, number of rows in dataframe: {df.shape[0]}')"
   ]
  },
  {
   "cell_type": "markdown",
   "metadata": {
    "id": "Wrg2c-WDMqIZ"
   },
   "source": [
    "### Data Visualization <a id = \"data_vis\">*</a>"
   ]
  },
  {
   "cell_type": "code",
   "execution_count": null,
   "metadata": {},
   "outputs": [],
   "source": [
    "df_vis = df.sample(frac=0.01, random_state=1) "
   ]
  },
  {
   "cell_type": "code",
   "execution_count": null,
   "metadata": {},
   "outputs": [],
   "source": [
    "px.scatter_mapbox(df_vis, lat=\"pickup_latitude\", lon=\"pickup_longitude\", size=\"total_time\", mapbox_style=\"open-street-map\", \n",
    "                  zoom=10.5, width=1000, height=600, size_max=7, title=\"Pickup places\")"
   ]
  },
  {
   "cell_type": "code",
   "execution_count": null,
   "metadata": {},
   "outputs": [],
   "source": [
    "px.density_mapbox(df_vis, lat=\"pickup_latitude\", lon=\"pickup_longitude\", mapbox_style=\"stamen-terrain\",\n",
    "                  z='total_time', radius=8, zoom=9.5, width=1000, height=600, opacity=0.7, title=\"Pickup places density\")"
   ]
  },
  {
   "cell_type": "code",
   "execution_count": null,
   "metadata": {},
   "outputs": [],
   "source": [
    "del df_vis"
   ]
  },
  {
   "cell_type": "markdown",
   "metadata": {
    "id": "VBFvyCJxak6d"
   },
   "source": [
    "### Quantitative analysis <a id = \"quan_ana\">*</a>"
   ]
  },
  {
   "cell_type": "markdown",
   "metadata": {
    "id": "Tp4YLz7l1Qrj"
   },
   "source": [
    "#### 2.1 Which route has the highest price/km ratio? Which route has the highest time/km ratio? Which route has the highest price/km ratio? Which route has the highest price/time ratio?"
   ]
  },
  {
   "cell_type": "markdown",
   "metadata": {
    "id": "FQEzCtdOak6e"
   },
   "source": [
    "Which route has the highest price/km ratio?"
   ]
  },
  {
   "cell_type": "code",
   "execution_count": null,
   "metadata": {
    "scrolled": true
   },
   "outputs": [],
   "source": [
    "var_temp = df['total_amount']/df['trip_distance']\n",
    "print(df.loc[var_temp.idxmax])\n",
    "del var_temp"
   ]
  },
  {
   "cell_type": "markdown",
   "metadata": {
    "id": "TBMLDEIrak6f"
   },
   "source": [
    "Which route has the highest time/km ratio? "
   ]
  },
  {
   "cell_type": "code",
   "execution_count": null,
   "metadata": {},
   "outputs": [],
   "source": [
    "var_temp = df['total_time']/df['trip_distance']\n",
    "print(df.loc[var_temp.idxmax])\n",
    "del var_temp"
   ]
  },
  {
   "cell_type": "markdown",
   "metadata": {
    "id": "3x1RATEaak6f"
   },
   "source": [
    "Which route has the highest price/time ratio?"
   ]
  },
  {
   "cell_type": "code",
   "execution_count": null,
   "metadata": {
    "colab": {
     "base_uri": "https://localhost:8080/"
    },
    "id": "7tiaRKNWak6g",
    "outputId": "270ad70c-37d7-41d1-834a-3d6f62cce880"
   },
   "outputs": [],
   "source": [
    "var_temp = df['total_amount']/df['total_time']\n",
    "print(df.loc[var_temp.idxmax])\n",
    "del var_temp"
   ]
  },
  {
   "cell_type": "markdown",
   "metadata": {
    "id": "_2YMpZQJ2pA1"
   },
   "source": [
    "#### 2.2 What is the journey where the price/km ratio is lowest? What is the journey where the time/km ratio is lowest? What is the journey where the price/time ratio is lowest? What is the journey where the price/time ratio is lowest?"
   ]
  },
  {
   "cell_type": "markdown",
   "metadata": {
    "id": "uGN1qXYk24t7"
   },
   "source": [
    "Which route has the lowest price/km ratio?"
   ]
  },
  {
   "cell_type": "code",
   "execution_count": null,
   "metadata": {},
   "outputs": [],
   "source": [
    "var_temp = df['total_amount']/df['trip_distance']\n",
    "print(df.loc[var_temp.idxmin])\n",
    "del var_temp"
   ]
  },
  {
   "cell_type": "markdown",
   "metadata": {
    "id": "jXNXjMig25E1"
   },
   "source": [
    "Which route has the lowest time/km ratio? "
   ]
  },
  {
   "cell_type": "code",
   "execution_count": null,
   "metadata": {
    "colab": {
     "base_uri": "https://localhost:8080/",
     "height": 174
    },
    "id": "JGiX0Gdq3Pqw",
    "outputId": "4137e10b-a0e2-4844-b19b-77f8b3d68b3c"
   },
   "outputs": [],
   "source": [
    "var_temp = df['total_time']/df['trip_distance']\n",
    "print(df.loc[var_temp.idxmin])\n",
    "del var_temp"
   ]
  },
  {
   "cell_type": "markdown",
   "metadata": {
    "id": "7jGPdHiJ25U4"
   },
   "source": [
    "Which route has the lowest price/time ratio?"
   ]
  },
  {
   "cell_type": "code",
   "execution_count": null,
   "metadata": {},
   "outputs": [],
   "source": [
    "var_temp = df['total_amount']/df['total_time']\n",
    "print(df.loc[var_temp.idxmin])\n",
    "del var_temp"
   ]
  },
  {
   "cell_type": "markdown",
   "metadata": {
    "id": "3SnlA_TIak6g"
   },
   "source": [
    "#### 2.3 Shows the evolution of the average journey time over the day. Shows the evolution of the average trip distance throughout the day."
   ]
  },
  {
   "cell_type": "code",
   "execution_count": null,
   "metadata": {
    "id": "Bga4nSkrak6h"
   },
   "outputs": [],
   "source": [
    "mean_time_by_hour = df.groupby(by=['tpep_pickup_datetime_hour'])['total_time'].mean().to_frame()\n",
    "mean_time_by_hour[\"pickup_hour\"] = range(0,24)\n",
    "mean_time_by_hour.head()"
   ]
  },
  {
   "cell_type": "code",
   "execution_count": null,
   "metadata": {
    "colab": {
     "base_uri": "https://localhost:8080/",
     "height": 617
    },
    "id": "wj12B0noak6i",
    "outputId": "71b0853f-a9e6-4873-ceaa-77b1f22c3242",
    "scrolled": false
   },
   "outputs": [],
   "source": [
    "fig = px.line(mean_time_by_hour, x='pickup_hour', y='total_time', markers=True)\n",
    "fig.update_layout(height=600, width=980, title_text=\"Total time based on pick up hour\")\n",
    "fig.update_traces(marker_size=8)\n",
    "fig.update_yaxes(rangemode=\"tozero\")\n",
    "fig.show()"
   ]
  },
  {
   "cell_type": "markdown",
   "metadata": {
    "id": "uKgQMV_rMqIc"
   },
   "source": [
    "## Predictive Analytics |  Machine Learning <a id = \"pred_ana\">*</a>"
   ]
  },
  {
   "cell_type": "markdown",
   "metadata": {
    "id": "1aOrATKS0O7h"
   },
   "source": [
    "#### 3.1 What are the areas where you are most likely to pick up a taxi depending on the time of day?"
   ]
  },
  {
   "cell_type": "markdown",
   "metadata": {},
   "source": [
    "#### Preprocessing data"
   ]
  },
  {
   "cell_type": "code",
   "execution_count": null,
   "metadata": {
    "colab": {
     "base_uri": "https://localhost:8080/",
     "height": 288
    },
    "id": "g4mHM6WXB_jb",
    "outputId": "1a6001de-1cea-4b9c-d5e6-e68caedf298f"
   },
   "outputs": [],
   "source": [
    "df_ml = df\n",
    "df_ml.head()"
   ]
  },
  {
   "cell_type": "code",
   "execution_count": null,
   "metadata": {
    "colab": {
     "base_uri": "https://localhost:8080/",
     "height": 206
    },
    "id": "7xOiax-79Yp2",
    "outputId": "4c768c63-d540-4057-bf59-e4ab360bacae"
   },
   "outputs": [],
   "source": [
    "df_ml = df_ml[['dropoff_longitude', 'dropoff_latitude', 'tpep_pickup_datetime_hour']]\n",
    "df_ml.head()"
   ]
  },
  {
   "cell_type": "code",
   "execution_count": null,
   "metadata": {
    "id": "r3X7_MpH62Ch"
   },
   "outputs": [],
   "source": [
    "min_max_scaler = preprocessing.MinMaxScaler() \n",
    "df_ml = min_max_scaler.fit_transform(df_ml)\n",
    "df_ml = pd.DataFrame(df_ml) \n",
    "df_ml.head()"
   ]
  },
  {
   "cell_type": "code",
   "execution_count": null,
   "metadata": {
    "id": "I2xRWILQa9QO"
   },
   "outputs": [],
   "source": [
    "x = df_ml[0].values\n",
    "y = df_ml[1].values"
   ]
  },
  {
   "cell_type": "markdown",
   "metadata": {},
   "source": [
    "#### KMeans"
   ]
  },
  {
   "cell_type": "markdown",
   "metadata": {},
   "source": [
    "Plot to get optimun value of k."
   ]
  },
  {
   "cell_type": "code",
   "execution_count": null,
   "metadata": {
    "colab": {
     "base_uri": "https://localhost:8080/",
     "height": 297
    },
    "id": "qI7TPWD9-HX0",
    "outputId": "01f12304-b796-4f94-859b-4900795bdf33",
    "scrolled": true
   },
   "outputs": [],
   "source": [
    "nc = range(1, 8)\n",
    "kmeans = [KMeans(n_clusters=i) for i in nc]\n",
    "score = [kmeans[i].fit(df_ml).score(df_ml) for i in range(len(kmeans))]\n",
    "\n",
    "plt.xlabel('Número de clústeres (k)')\n",
    "plt.ylabel('Suma de los errores cuadráticos')\n",
    "plt.plot(nc,score)"
   ]
  },
  {
   "cell_type": "code",
   "execution_count": null,
   "metadata": {
    "colab": {
     "base_uri": "https://localhost:8080/"
    },
    "id": "RGgakp7Z6Fls",
    "outputId": "1a448717-c9b4-41e2-9ee2-b8582864defa"
   },
   "outputs": [],
   "source": [
    "kmeans = KMeans(n_clusters=3).fit(df_ml)\n",
    "centroids = kmeans.cluster_centers_\n",
    "centroids = min_max_scaler.inverse_transform(centroids)[:, 0:2]"
   ]
  },
  {
   "cell_type": "code",
   "execution_count": null,
   "metadata": {},
   "outputs": [],
   "source": [
    "labels = kmeans.predict(df_ml) # predict labels\n",
    "\n",
    "arr = min_max_scaler.inverse_transform(df_ml.iloc[:,0:3])\n",
    "df_ml = pd.DataFrame({'dropoff_longitude': arr[:, 0], 'dropoff_latitude': arr[:, 1], 'tpep_pickup_datetime_hour': arr[:, 2]})\n",
    "df_ml['tpep_pickup_datetime_hour'] = round(df_ml['tpep_pickup_datetime_hour'],0)\n",
    "df_ml['label'] = labels\n",
    "df_ml.head()"
   ]
  },
  {
   "cell_type": "markdown",
   "metadata": {},
   "source": [
    "We get the **centroids** for each hour in which there are the most taxis available "
   ]
  },
  {
   "cell_type": "code",
   "execution_count": null,
   "metadata": {},
   "outputs": [],
   "source": [
    "df_centroids = df_ml.groupby(['tpep_pickup_datetime_hour','label']).size()\n",
    "df_centroids"
   ]
  },
  {
   "cell_type": "code",
   "execution_count": null,
   "metadata": {},
   "outputs": [],
   "source": [
    "centroids_list = []\n",
    "\n",
    "for i in range(0,24):\n",
    "    centroids_list.append(df_centroids[i].idxmax())\n",
    "    \n",
    "data = {'hour':range(0,24), 'centroide':centroids_list}\n",
    "df_centroids = pd.DataFrame(data)\n",
    "df_centroids"
   ]
  },
  {
   "cell_type": "markdown",
   "metadata": {},
   "source": [
    "The **best places to take a taxi** depending on the hour are:\n",
    "- 0-12h centroid 1, in the center.\n",
    "- 12-15h centroid 2, in the north.\n",
    "- 15-24h centroid 0, in the south."
   ]
  },
  {
   "cell_type": "markdown",
   "metadata": {},
   "source": [
    "For each hour we have a centroid, i.e. coordinates, of where it is most likely to find an available taxi, the centroids are displayed below:"
   ]
  },
  {
   "cell_type": "code",
   "execution_count": null,
   "metadata": {},
   "outputs": [],
   "source": [
    "df_centroids_lonlat = pd.DataFrame({'centroid_longitude': centroids[:, 0], 'centroid_latitude': centroids[:, 1]})\n",
    "\n",
    "px.scatter_mapbox(df_centroids_lonlat, lat=\"centroid_latitude\", lon=\"centroid_longitude\", mapbox_style=\"open-street-map\", \n",
    "                  zoom=10.5, width=1000, height=600, size=\"centroid_latitude\",\n",
    "                  title=\"Centroids for getting a taxi depending on the hour of day\")"
   ]
  },
  {
   "cell_type": "markdown",
   "metadata": {
    "id": "jDlFITro0YpP"
   },
   "source": [
    "#### 3.2 Design a model that, given a time, origin coordinates, and destination coordinates, predicts the duration of the journey and its cost. It shows the relevance of the attributes of the dataset."
   ]
  },
  {
   "cell_type": "code",
   "execution_count": null,
   "metadata": {
    "id": "7w0sT7tN0Y8d",
    "scrolled": true
   },
   "outputs": [],
   "source": [
    "df_ml = df.sample(frac=0.4, random_state=1) #edit frac depending on computational resources\n",
    "df_ml['trip_distance']=round(df_ml['trip_distance'])\n",
    "df_ml = pd.get_dummies(df_ml, columns=[\"tpep_pickup_datetime_weekday\"])\n",
    "\n",
    "df_ml"
   ]
  },
  {
   "cell_type": "code",
   "execution_count": null,
   "metadata": {},
   "outputs": [],
   "source": [
    "column_to_predict = 'trip_distance'\n",
    "\n",
    "column_to_train = list(df_ml.columns)\n",
    "column_to_train.remove(column_to_predict)\n",
    "column_to_train"
   ]
  },
  {
   "cell_type": "code",
   "execution_count": null,
   "metadata": {},
   "outputs": [],
   "source": [
    "X = df_ml.loc[:, column_to_train].values\n",
    "y = df_ml.loc[:, column_to_predict].values\n",
    "\n",
    "X_train, X_test, y_train, y_test = train_test_split(X, y, test_size=0.30, random_state=1)\n",
    "\n",
    "print(X_train.shape)\n",
    "print(X_test.shape)\n",
    "print(y_train.shape)\n",
    "print(y_test.shape)"
   ]
  },
  {
   "cell_type": "markdown",
   "metadata": {},
   "source": [
    "#### Logistic Regression"
   ]
  },
  {
   "cell_type": "code",
   "execution_count": null,
   "metadata": {},
   "outputs": [],
   "source": [
    "%%time \n",
    "LR = LogisticRegression()\n",
    "LR.fit(X_train, y_train)"
   ]
  },
  {
   "cell_type": "code",
   "execution_count": null,
   "metadata": {},
   "outputs": [],
   "source": [
    "y_train_pred = LR.predict(X_train)\n",
    "y_test_pred = LR.predict(X_test)"
   ]
  },
  {
   "cell_type": "code",
   "execution_count": null,
   "metadata": {},
   "outputs": [],
   "source": [
    "print(f\"Accuracy train data {accuracy_score(y_train, y_train_pred)}\")\n",
    "print(f\"Accuracy test data {accuracy_score(y_test, y_test_pred)}\")"
   ]
  },
  {
   "cell_type": "markdown",
   "metadata": {},
   "source": [
    "#### Decision Tree Regressor"
   ]
  },
  {
   "cell_type": "code",
   "execution_count": null,
   "metadata": {},
   "outputs": [],
   "source": [
    "dtr = DecisionTreeRegressor(random_state=0)\n",
    "dtr.fit(X_train, y_train)"
   ]
  },
  {
   "cell_type": "code",
   "execution_count": null,
   "metadata": {},
   "outputs": [],
   "source": [
    "y_train_pred = dtr.predict(X_train)\n",
    "y_test_pred = dtr.predict(X_test)"
   ]
  },
  {
   "cell_type": "code",
   "execution_count": null,
   "metadata": {},
   "outputs": [],
   "source": [
    "print(f\"Accuracy train data {accuracy_score(y_train, y_train_pred)}\")\n",
    "print(f\"Accuracy test data {accuracy_score(y_test, y_test_pred)}\")"
   ]
  },
  {
   "cell_type": "code",
   "execution_count": null,
   "metadata": {},
   "outputs": [],
   "source": [
    "y_test"
   ]
  },
  {
   "cell_type": "markdown",
   "metadata": {},
   "source": [
    "#### Random Forest Regressor"
   ]
  },
  {
   "cell_type": "code",
   "execution_count": null,
   "metadata": {},
   "outputs": [],
   "source": [
    "rfr = RandomForestRegressor(n_estimators = 10,criterion = 'mse', max_depth = None, max_features = 'auto', \n",
    "                          oob_score = False, n_jobs = -1, random_state = 1)\n",
    "rfr.fit(X_train, y_train)"
   ]
  },
  {
   "cell_type": "code",
   "execution_count": null,
   "metadata": {},
   "outputs": [],
   "source": [
    "y_train_pred = rfr.predict(X_train).astype(int)\n",
    "y_test_pred = rfr.predict(X_test).astype(int)"
   ]
  },
  {
   "cell_type": "code",
   "execution_count": null,
   "metadata": {},
   "outputs": [],
   "source": [
    "print(f\"Accuracy train data {accuracy_score(y_train, y_train_pred)}\")\n",
    "print(f\"Accuracy test data {accuracy_score(y_test, y_test_pred)}\")"
   ]
  },
  {
   "cell_type": "markdown",
   "metadata": {},
   "source": [
    "### Xgboost"
   ]
  },
  {
   "cell_type": "code",
   "execution_count": null,
   "metadata": {},
   "outputs": [],
   "source": [
    "dtrain = xgb.DMatrix(X_train, label=y_train)\n",
    "dvalid = xgb.DMatrix(X_test, label=y_test)\n",
    "#dtest = xgb.DMatrix(Test_master)\n",
    "watchlist = [(dtrain, 'train'), (dvalid, 'valid')]\n",
    "\n",
    "\n",
    "xgb_pars = {'min_child_weight': 1, 'eta': 0.5, 'colsample_bytree': 0.9, \n",
    "            'max_depth': 6, 'subsample': 0.9, 'lambda': 1., 'nthread': -1, \n",
    "            'booster' : 'gbtree', 'silent': 1, 'eval_metric': 'rmse', 'objective': 'reg:linear'}\n",
    "\n",
    "model = xgb.train(xgb_pars, dtrain, 10, watchlist, early_stopping_rounds=2, maximize=False, verbose_eval=1)\n",
    "\n",
    "print('Modeling RMSLE %.5f' % model.best_score)"
   ]
  },
  {
   "cell_type": "code",
   "execution_count": null,
   "metadata": {
    "scrolled": true
   },
   "outputs": [],
   "source": [
    "xgb.plot_importance(model, max_num_features=28, height=0.7)"
   ]
  },
  {
   "cell_type": "markdown",
   "metadata": {},
   "source": [
    "#### TensorFlow"
   ]
  },
  {
   "cell_type": "code",
   "execution_count": null,
   "metadata": {},
   "outputs": [],
   "source": [
    "input_layer = Input(shape=(X.shape[1],))\n",
    "dense_layer_1 = Dense(100, activation='relu')(input_layer)\n",
    "dense_layer_2 = Dense(50, activation='relu')(dense_layer_1)\n",
    "dense_layer_3 = Dense(25, activation='relu')(dense_layer_2)\n",
    "output = Dense(1)(dense_layer_3)\n",
    "\n",
    "model = Model(inputs=input_layer, outputs=output)\n",
    "model.compile(loss=\"mean_squared_error\" , optimizer=\"adam\", metrics=[\"mean_squared_error\"])"
   ]
  },
  {
   "cell_type": "code",
   "execution_count": null,
   "metadata": {},
   "outputs": [],
   "source": [
    "print(model.summary())"
   ]
  },
  {
   "cell_type": "code",
   "execution_count": null,
   "metadata": {},
   "outputs": [],
   "source": [
    "history = model.fit(X_train, y_train, batch_size=2, epochs=5, verbose=1, validation_split=0.2)"
   ]
  },
  {
   "cell_type": "code",
   "execution_count": null,
   "metadata": {},
   "outputs": [],
   "source": [
    "pred_train = model.predict(X_train)\n",
    "pred = model.predict(X_test)\n",
    "\n",
    "print(f\"MSE training: {np.sqrt(mean_squared_error(y_train,pred_train))}, MSE testing: {np.sqrt(mean_squared_error(y_test,pred))}\")"
   ]
  }
 ],
 "metadata": {
  "colab": {
   "collapsed_sections": [],
   "name": "ML_regression_2.ipynb",
   "provenance": [],
   "toc_visible": true
  },
  "kernelspec": {
   "display_name": "Python 3 (ipykernel)",
   "language": "python",
   "name": "python3"
  },
  "language_info": {
   "codemirror_mode": {
    "name": "ipython",
    "version": 3
   },
   "file_extension": ".py",
   "mimetype": "text/x-python",
   "name": "python",
   "nbconvert_exporter": "python",
   "pygments_lexer": "ipython3",
   "version": "3.9.7"
  }
 },
 "nbformat": 4,
 "nbformat_minor": 1
}
